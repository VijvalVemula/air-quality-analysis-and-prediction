{
  "cells": [
    {
      "cell_type": "markdown",
      "metadata": {
        "id": "XNwBhCh5_fcM"
      },
      "source": [
        "# Air Quality Analysis and Prediction\n",
        "\n"
      ]
    },
    {
      "cell_type": "markdown",
      "metadata": {
        "id": "te7o-qDYH5Pl"
      },
      "source": [
        "---"
      ]
    },
    {
      "cell_type": "markdown",
      "metadata": {
        "id": "rlYD5Go09y1Q"
      },
      "source": [
        "# Section 1: Define and describe the dataset\n",
        "\n",
        "10 points\n",
        "\n",
        "Import the dataset, and describe why you'll be analyzing in it. You can summarize a few columns, show a more information on the relavent features, or but help the reader understand what the dataset is, what is in it, and why you picked it.\n",
        "\n",
        "Some questions that it might help you to answer:\n",
        "1. Why are you choosing this dataset?\n",
        "1. What variables will you use?\n",
        "1. What analysis(es) will you run?\n",
        "1. Do you have any hypotheses? What are they?\n",
        "\n",
        "### This section should include one or more of the following:\n",
        "- A histogram of several features relavent to your analysis\n",
        "- The schema of the dataset, with the datatypes assigned correctly\n",
        "- A text cell with explainations of the relavent features in [markdown](https://www.markdownguide.org/cheat-sheet)\n",
        "- Use Spark SQL or built-in methods to show a range of values\n",
        "- Most common words/n-grams found"
      ]
    },
    {
      "cell_type": "markdown",
      "metadata": {
        "id": "MLSd0c_16dU-"
      },
      "source": [
        "#####INSTALLING PYSPARK WILL BE THE FIRST STEP\n"
      ]
    },
    {
      "cell_type": "code",
      "execution_count": null,
      "metadata": {
        "id": "AXLF1DHU8OuX",
        "colab": {
          "base_uri": "https://localhost:8080/"
        },
        "outputId": "bcd88433-3248-4d78-8cee-14e67188ce37"
      },
      "outputs": [
        {
          "output_type": "stream",
          "name": "stdout",
          "text": [
            "Mounted at /content/gdrive\n"
          ]
        }
      ],
      "source": [
        "!apt-get install openjdk-8-jdk-headless -qq > /dev/null\n",
        "!wget -q https://archive.apache.org/dist/spark/spark-3.5.0/spark-3.5.0-bin-hadoop3.tgz\n",
        "!tar xf spark-3.5.0-bin-hadoop3.tgz\n",
        "\n",
        "import os\n",
        "os.environ[\"JAVA_HOME\"] = \"/usr/lib/jvm/java-8-openjdk-amd64\"\n",
        "os.environ[\"SPARK_HOME\"] = \"/content/spark-3.5.0-bin-hadoop3\"\n",
        "\n",
        "!python -m pip install -q findspark\n",
        "\n",
        "import findspark\n",
        "findspark.init()\n",
        "\n",
        "from google.colab import drive\n",
        "drive.mount('/content/gdrive')"
      ]
    },
    {
      "cell_type": "code",
      "execution_count": null,
      "metadata": {
        "id": "CU1lvsE_6zOy",
        "colab": {
          "base_uri": "https://localhost:8080/",
          "height": 221
        },
        "outputId": "0634d81c-7975-4e2e-f051-2d6fa1b1dc51"
      },
      "outputs": [
        {
          "output_type": "execute_result",
          "data": {
            "text/plain": [
              "<pyspark.sql.session.SparkSession at 0x7c2e544a8220>"
            ],
            "text/html": [
              "\n",
              "            <div>\n",
              "                <p><b>SparkSession - in-memory</b></p>\n",
              "                \n",
              "        <div>\n",
              "            <p><b>SparkContext</b></p>\n",
              "\n",
              "            <p><a href=\"http://b01d47de5049:4040\">Spark UI</a></p>\n",
              "\n",
              "            <dl>\n",
              "              <dt>Version</dt>\n",
              "                <dd><code>v3.5.0</code></dd>\n",
              "              <dt>Master</dt>\n",
              "                <dd><code>local[*]</code></dd>\n",
              "              <dt>AppName</dt>\n",
              "                <dd><code>Air Quality Analysis</code></dd>\n",
              "            </dl>\n",
              "        </div>\n",
              "        \n",
              "            </div>\n",
              "        "
            ]
          },
          "metadata": {},
          "execution_count": 2
        }
      ],
      "source": [
        "from pyspark.sql import SparkSession\n",
        "\n",
        "spark = SparkSession.builder.appName(\"Air Quality Analysis\").getOrCreate()\n",
        "\n",
        "spark\n",
        "\n"
      ]
    },
    {
      "cell_type": "code",
      "execution_count": null,
      "metadata": {
        "id": "TFXnWMoE8v7-",
        "colab": {
          "base_uri": "https://localhost:8080/"
        },
        "outputId": "ddb638e9-ae74-4a28-88ae-21c466284956"
      },
      "outputs": [
        {
          "output_type": "stream",
          "name": "stdout",
          "text": [
            "+----------+--------+------+-----------+--------+--------+-------------+-------+------------+-------+------------+-----------+----+----+-----+\n",
            "|      Date|    Time|CO(GT)|PT08.S1(CO)|NMHC(GT)|C6H6(GT)|PT08.S2(NMHC)|NOx(GT)|PT08.S3(NOx)|NO2(GT)|PT08.S4(NO2)|PT08.S5(O3)|   T|  RH|   AH|\n",
            "+----------+--------+------+-----------+--------+--------+-------------+-------+------------+-------+------------+-----------+----+----+-----+\n",
            "|10/03/2004|18.00.00|   2,6|       1360|     150|    11,9|         1046|    166|        1056|    113|        1692|       1268|13,6|48,9|7,578|\n",
            "|10/03/2004|19.00.00|     2|       1292|     112|     9,4|          955|    103|        1174|     92|        1559|        972|13,3|47,7|7,255|\n",
            "|10/03/2004|20.00.00|   2,2|       1402|      88|     9,0|          939|    131|        1140|    114|        1555|       1074|11,9|54,0|7,502|\n",
            "|10/03/2004|21.00.00|   2,2|       1376|      80|     9,2|          948|    172|        1092|    122|        1584|       1203|11,0|60,0|7,867|\n",
            "|10/03/2004|22.00.00|   1,6|       1272|      51|     6,5|          836|    131|        1205|    116|        1490|       1110|11,2|59,6|7,888|\n",
            "|10/03/2004|23.00.00|   1,2|       1197|      38|     4,7|          750|     89|        1337|     96|        1393|        949|11,2|59,2|7,848|\n",
            "|11/03/2004|00.00.00|   1,2|       1185|      31|     3,6|          690|     62|        1462|     77|        1333|        733|11,3|56,8|7,603|\n",
            "|11/03/2004|01.00.00|     1|       1136|      31|     3,3|          672|     62|        1453|     76|        1333|        730|10,7|60,0|7,702|\n",
            "|11/03/2004|02.00.00|   0,9|       1094|      24|     2,3|          609|     45|        1579|     60|        1276|        620|10,7|59,7|7,648|\n",
            "|11/03/2004|03.00.00|   0,6|       1010|      19|     1,7|          561|   -200|        1705|   -200|        1235|        501|10,3|60,2|7,517|\n",
            "|11/03/2004|04.00.00|  -200|       1011|      14|     1,3|          527|     21|        1818|     34|        1197|        445|10,1|60,5|7,465|\n",
            "|11/03/2004|05.00.00|   0,7|       1066|       8|     1,1|          512|     16|        1918|     28|        1182|        422|11,0|56,2|7,366|\n",
            "|11/03/2004|06.00.00|   0,7|       1052|      16|     1,6|          553|     34|        1738|     48|        1221|        472|10,5|58,1|7,353|\n",
            "|11/03/2004|07.00.00|   1,1|       1144|      29|     3,2|          667|     98|        1490|     82|        1339|        730|10,2|59,6|7,417|\n",
            "|11/03/2004|08.00.00|     2|       1333|      64|     8,0|          900|    174|        1136|    112|        1517|       1102|10,8|57,4|7,408|\n",
            "|11/03/2004|09.00.00|   2,2|       1351|      87|     9,5|          960|    129|        1079|    101|        1583|       1028|10,5|60,6|7,691|\n",
            "|11/03/2004|10.00.00|   1,7|       1233|      77|     6,3|          827|    112|        1218|     98|        1446|        860|10,8|58,4|7,552|\n",
            "|11/03/2004|11.00.00|   1,5|       1179|      43|     5,0|          762|     95|        1328|     92|        1362|        671|10,5|57,9|7,352|\n",
            "|11/03/2004|12.00.00|   1,6|       1236|      61|     5,2|          774|    104|        1301|     95|        1401|        664| 9,5|66,8|7,951|\n",
            "|11/03/2004|13.00.00|   1,9|       1286|      63|     7,3|          869|    146|        1162|    112|        1537|        799| 8,3|76,4|8,393|\n",
            "+----------+--------+------+-----------+--------+--------+-------------+-------+------------+-------+------------+-----------+----+----+-----+\n",
            "only showing top 20 rows\n",
            "\n"
          ]
        }
      ],
      "source": [
        "data = spark.read.csv(\"/content/gdrive/MyDrive/air-quality-data.csv\", header = True, inferSchema = True)\n",
        "data.show()"
      ]
    },
    {
      "cell_type": "code",
      "execution_count": null,
      "metadata": {
        "id": "CzgIGDIJ9nJs",
        "colab": {
          "base_uri": "https://localhost:8080/"
        },
        "outputId": "305e8bd9-c4a4-4488-915d-7f7bea212c7b"
      },
      "outputs": [
        {
          "output_type": "stream",
          "name": "stdout",
          "text": [
            "root\n",
            " |-- Date: string (nullable = true)\n",
            " |-- Time: string (nullable = true)\n",
            " |-- CO(GT): string (nullable = true)\n",
            " |-- PT08.S1(CO): integer (nullable = true)\n",
            " |-- NMHC(GT): integer (nullable = true)\n",
            " |-- C6H6(GT): string (nullable = true)\n",
            " |-- PT08.S2(NMHC): integer (nullable = true)\n",
            " |-- NOx(GT): integer (nullable = true)\n",
            " |-- PT08.S3(NOx): integer (nullable = true)\n",
            " |-- NO2(GT): integer (nullable = true)\n",
            " |-- PT08.S4(NO2): integer (nullable = true)\n",
            " |-- PT08.S5(O3): integer (nullable = true)\n",
            " |-- T: string (nullable = true)\n",
            " |-- RH: string (nullable = true)\n",
            " |-- AH: string (nullable = true)\n",
            "\n"
          ]
        }
      ],
      "source": [
        "data.printSchema()"
      ]
    },
    {
      "cell_type": "markdown",
      "metadata": {
        "id": "zt6GjfAfDEfn"
      },
      "source": [
        "##### Describing the Meaning of Each Column in the Dataset\n",
        "\n",
        "##### Date:\n",
        "- **Definition:** This column represents the date on which the measurements were taken.\n",
        "- **Format:** The date is in the format \"DD/MM/YYYY\", where DD is the day, MM is the month, and YYYY is the year.\n",
        "\n",
        "##### Time:\n",
        "- **Definition:** This column represents the time at which the measurements were taken.\n",
        "- **Format:** The time is in the format \"HH:MM:SS\", where HH is the hour (in 24-hour format), MM is the minute, and SS is the second.\n",
        "\n",
        "##### CO(GT):\n",
        "- **Definition:** This column represents the concentration of carbon monoxide (CO) in the air.\n",
        "- **Unit:** Parts per million (ppm).\n",
        "\n",
        "##### PT08.S1(CO):\n",
        "- **Definition:** This column represents the Tin Oxide (SnO2) sensor response for carbon monoxide (CO).\n",
        "- **Unit:** Relative response.\n",
        "\n",
        "##### NMHC(GT):\n",
        "- **Definition:** This column represents the concentration of non-methane hydrocarbons (NMHC) in the air.\n",
        "- **Unit:** Micrograms per cubic meter (µg/m³).\n",
        "\n",
        "##### C6H6(GT):\n",
        "- **Definition:** This column represents the concentration of benzene (C6H6) in the air.\n",
        "- **Unit:** Micrograms per cubic meter (µg/m³).\n",
        "\n",
        "##### PT08.S2(NMHC):\n",
        "- **Definition:** This column represents the Titania (TiO2) sensor response for non-methane hydrocarbons (NMHC).\n",
        "- **Unit:** Relative response.\n",
        "\n",
        "##### NOx(GT):\n",
        "- **Definition:** This column represents the concentration of nitrogen oxides (NOx) in the air.\n",
        "- **Unit:** Parts per billion (ppb).\n",
        "\n",
        "##### PT08.S3(NOx):\n",
        "- **Definition:** This column represents the Tungsten Oxide (WO3) sensor response for nitrogen oxides (NOx).\n",
        "- **Unit:** Relative response.\n",
        "\n",
        "##### NO2(GT):\n",
        "- **Definition:** This column represents the concentration of nitrogen dioxide (NO2) in the air.\n",
        "- **Unit:** Parts per billion (ppb).\n",
        "\n",
        "##### PT08.S4(NO2):\n",
        "- **Definition:** This column represents the Tungsten Oxide (WO3) sensor response for nitrogen dioxide (NO2).\n",
        "- **Unit:** Relative response.\n",
        "\n",
        "##### PT08.S5(O3):\n",
        "- **Definition:** This column represents the Indium Oxide (In2O3) sensor response for ozone (O3).\n",
        "- **Unit:** Relative response.\n",
        "\n",
        "##### T:\n",
        "- **Definition:** This column represents the temperature at the time of measurement.\n",
        "- **Unit:** Degrees Celsius (°C).\n",
        "\n",
        "##### RH:\n",
        "- **Definition:** This column represents the relative humidity at the time of measurement.\n",
        "- **Unit:** Percentage (%).\n",
        "\n",
        "##### AH:\n",
        "- **Definition:** This column represents the absolute humidity at the time of measurement.\n",
        "- **Calculation:** AH = (absolute humidity * 100) / saturation vapor pressure at the current temperature.\n",
        "- **Unit:** Grams per cubic meter (g/m³).\n"
      ]
    },
    {
      "cell_type": "markdown",
      "metadata": {
        "id": "6O4U6y9wDi_D"
      },
      "source": [
        "##### Reasons for Choosing the Dataset\n",
        "I chose this dataset for several reasons:\n",
        "- **Relevance:** The dataset contains measurements related to air quality, which is a crucial aspect of environmental and public health.\n",
        "- **Availability:** The dataset is readily available and provides a comprehensive set of attributes for analysis.\n",
        "- **Interest:** Analyzing air quality data aligns with my interest in environmental science and data analysis.\n",
        "\n",
        "##### Variables to Use\n",
        "I will primarily focus on the following variables for analysis:\n",
        "- **CO(GT):** Concentration of carbon monoxide in the air.\n",
        "- **NMHC(GT):** Concentration of non-methane hydrocarbons in the air.\n",
        "- **NOx(GT):** Concentration of nitrogen oxides in the air.\n",
        "- **T:** Temperature at the time of measurement.\n",
        "- **RH:** Relative humidity at the time of measurement.\n",
        "\n",
        "##### Analysis to Run\n",
        "I plan to perform the following analyses:\n",
        "- **Descriptive Analysis:** Summarize the key statistics and distributions of the selected variables.\n",
        "- **Correlation Analysis:** Explore the relationships between different variables, particularly between air pollutants and environmental factors such as temperature and humidity.\n",
        "- **Hypothesis Testing:** Test hypotheses regarding the effects of environmental factors on air pollution levels.\n",
        "\n",
        "##### Hypotheses\n",
        "Based on initial observations, I have the this hypotheses:\n",
        "\n",
        "**Temperature and Air Quality:** I hypothesize that there is a positive correlation between temperature and the concentration of air pollutants such as carbon monoxide and non-methane hydrocarbons. Higher temperatures may lead to increased emissions and higher pollutant concentrations.\n",
        "\n"
      ]
    },
    {
      "cell_type": "markdown",
      "metadata": {
        "id": "tHg1rnXJEObb"
      },
      "source": [
        "#####Explanation of Relevant Features\n",
        "\n",
        " - **CO(GT)**: Concentration of carbon monoxide in parts per million (ppm). This feature is crucial for understanding the level of carbon monoxide, which is a harmful air pollutant.\n",
        "\n",
        "- **NMHC(GT)**: Concentration of non-methane hydrocarbons in micrograms per cubic meter (µg/m³). Non-methane hydrocarbons contribute to air pollution and can have adverse effects on human health and the environment.\n",
        "\n",
        "- **NOx(GT)**: Concentration of nitrogen oxides in parts per billion (ppb). Nitrogen oxides are air pollutants that contribute to the formation of smog and acid rain, and can have respiratory and environmental impacts.\n",
        "\n",
        "- **T**: Temperature in degrees Celsius (°C). Temperature is an important environmental factor that can influence the concentration and behavior of air pollutants."
      ]
    },
    {
      "cell_type": "markdown",
      "metadata": {
        "id": "xW9ts_t38Qmh"
      },
      "source": [
        "# Section 2: Clean the data\n",
        "\n",
        "10 points\n",
        "\n",
        "Not every dataset is going to be ready to use right away. Take steps to fix incorrect inputs, remove null values, and assign datatypes that fit each feature.\n",
        "\n",
        "### This section should include one or more of the following:\n",
        "- A count of rows before and after dropping data with null or incorrect values, including an explaination of why removing the rows was necessary in [markdown](https://www.markdownguide.org/cheat-sheet).\n",
        "- Renaming a column, adding a new one, or casting an existing one as a different datatype.\n",
        "- Remove punctuation marks, symbols, etc from the data, and convert all upper-case lettering to lower-case.\n",
        "- Remove or fix rows that have bad values/data."
      ]
    },
    {
      "cell_type": "code",
      "execution_count": null,
      "metadata": {
        "id": "5cX771Hn8TCE",
        "colab": {
          "base_uri": "https://localhost:8080/"
        },
        "outputId": "5772dfcf-f6d2-4b64-b2cf-561f0163b139"
      },
      "outputs": [
        {
          "output_type": "stream",
          "name": "stdout",
          "text": [
            "root\n",
            " |-- Date: string (nullable = true)\n",
            " |-- Time: string (nullable = true)\n",
            " |-- CO(GT): string (nullable = true)\n",
            " |-- PT08.S1(CO): integer (nullable = true)\n",
            " |-- NMHC(GT): integer (nullable = true)\n",
            " |-- C6H6(GT): string (nullable = true)\n",
            " |-- PT08.S2(NMHC): integer (nullable = true)\n",
            " |-- NOx(GT): integer (nullable = true)\n",
            " |-- PT08.S3(NOx): integer (nullable = true)\n",
            " |-- NO2(GT): integer (nullable = true)\n",
            " |-- PT08.S4(NO2): integer (nullable = true)\n",
            " |-- PT08.S5(O3): integer (nullable = true)\n",
            " |-- T: string (nullable = true)\n",
            " |-- RH: string (nullable = true)\n",
            " |-- AH: string (nullable = true)\n",
            "\n"
          ]
        }
      ],
      "source": [
        "data.printSchema()"
      ]
    },
    {
      "cell_type": "code",
      "execution_count": null,
      "metadata": {
        "id": "3NDgcOmodRQk",
        "colab": {
          "base_uri": "https://localhost:8080/"
        },
        "outputId": "9cceb955-2e1c-417c-98c4-4f5be0835492"
      },
      "outputs": [
        {
          "output_type": "stream",
          "name": "stdout",
          "text": [
            "+----------+--------+------+-----------+--------+--------+-------------+-------+------------+-------+------------+-----------+----+----+-----+\n",
            "|      Date|    Time|CO(GT)|PT08.S1(CO)|NMHC(GT)|C6H6(GT)|PT08.S2(NMHC)|NOx(GT)|PT08.S3(NOx)|NO2(GT)|PT08.S4(NO2)|PT08.S5(O3)|   T|  RH|   AH|\n",
            "+----------+--------+------+-----------+--------+--------+-------------+-------+------------+-------+------------+-----------+----+----+-----+\n",
            "|10/03/2004|18.00.00|   2,6|       1360|     150|    11,9|         1046|    166|        1056|    113|        1692|       1268|13,6|48,9|7,578|\n",
            "|10/03/2004|19.00.00|     2|       1292|     112|     9,4|          955|    103|        1174|     92|        1559|        972|13,3|47,7|7,255|\n",
            "|10/03/2004|20.00.00|   2,2|       1402|      88|     9,0|          939|    131|        1140|    114|        1555|       1074|11,9|54,0|7,502|\n",
            "|10/03/2004|21.00.00|   2,2|       1376|      80|     9,2|          948|    172|        1092|    122|        1584|       1203|11,0|60,0|7,867|\n",
            "|10/03/2004|22.00.00|   1,6|       1272|      51|     6,5|          836|    131|        1205|    116|        1490|       1110|11,2|59,6|7,888|\n",
            "|10/03/2004|23.00.00|   1,2|       1197|      38|     4,7|          750|     89|        1337|     96|        1393|        949|11,2|59,2|7,848|\n",
            "|11/03/2004|00.00.00|   1,2|       1185|      31|     3,6|          690|     62|        1462|     77|        1333|        733|11,3|56,8|7,603|\n",
            "|11/03/2004|01.00.00|     1|       1136|      31|     3,3|          672|     62|        1453|     76|        1333|        730|10,7|60,0|7,702|\n",
            "|11/03/2004|02.00.00|   0,9|       1094|      24|     2,3|          609|     45|        1579|     60|        1276|        620|10,7|59,7|7,648|\n",
            "|11/03/2004|03.00.00|   0,6|       1010|      19|     1,7|          561|   -200|        1705|   -200|        1235|        501|10,3|60,2|7,517|\n",
            "|11/03/2004|04.00.00|  -200|       1011|      14|     1,3|          527|     21|        1818|     34|        1197|        445|10,1|60,5|7,465|\n",
            "|11/03/2004|05.00.00|   0,7|       1066|       8|     1,1|          512|     16|        1918|     28|        1182|        422|11,0|56,2|7,366|\n",
            "|11/03/2004|06.00.00|   0,7|       1052|      16|     1,6|          553|     34|        1738|     48|        1221|        472|10,5|58,1|7,353|\n",
            "|11/03/2004|07.00.00|   1,1|       1144|      29|     3,2|          667|     98|        1490|     82|        1339|        730|10,2|59,6|7,417|\n",
            "|11/03/2004|08.00.00|     2|       1333|      64|     8,0|          900|    174|        1136|    112|        1517|       1102|10,8|57,4|7,408|\n",
            "|11/03/2004|09.00.00|   2,2|       1351|      87|     9,5|          960|    129|        1079|    101|        1583|       1028|10,5|60,6|7,691|\n",
            "|11/03/2004|10.00.00|   1,7|       1233|      77|     6,3|          827|    112|        1218|     98|        1446|        860|10,8|58,4|7,552|\n",
            "|11/03/2004|11.00.00|   1,5|       1179|      43|     5,0|          762|     95|        1328|     92|        1362|        671|10,5|57,9|7,352|\n",
            "|11/03/2004|12.00.00|   1,6|       1236|      61|     5,2|          774|    104|        1301|     95|        1401|        664| 9,5|66,8|7,951|\n",
            "|11/03/2004|13.00.00|   1,9|       1286|      63|     7,3|          869|    146|        1162|    112|        1537|        799| 8,3|76,4|8,393|\n",
            "+----------+--------+------+-----------+--------+--------+-------------+-------+------------+-------+------------+-----------+----+----+-----+\n",
            "only showing top 20 rows\n",
            "\n"
          ]
        }
      ],
      "source": [
        "data.show()"
      ]
    },
    {
      "cell_type": "markdown",
      "metadata": {
        "id": "QqtS1YY0muhu"
      },
      "source": [
        "Now, after examining the data and schema, I think I need to change some things.\n",
        "\n",
        "- The numeric values of some columnshave comma `(,)` in them, but not period `(.)`, and I need to change them.\n",
        "- Also, I need to change the schema of the updated numeric columns after updating them. I choose `double()`."
      ]
    },
    {
      "cell_type": "code",
      "execution_count": null,
      "metadata": {
        "id": "DbYEArshoCof",
        "colab": {
          "base_uri": "https://localhost:8080/"
        },
        "outputId": "5a4f0bca-dd10-4d1a-f543-25682f46cf4a"
      },
      "outputs": [
        {
          "output_type": "stream",
          "name": "stdout",
          "text": [
            "+----------+--------+------+-----------+--------+--------+-------------+-------+------------+-------+------------+-----------+----+----+-----+\n",
            "|      Date|    Time|CO(GT)|PT08.S1(CO)|NMHC(GT)|C6H6(GT)|PT08.S2(NMHC)|NOx(GT)|PT08.S3(NOx)|NO2(GT)|PT08.S4(NO2)|PT08.S5(O3)|   T|  RH|   AH|\n",
            "+----------+--------+------+-----------+--------+--------+-------------+-------+------------+-------+------------+-----------+----+----+-----+\n",
            "|10/03/2004|18.00.00|   2.6|       1360|     150|    11.9|         1046|    166|        1056|    113|        1692|       1268|13.6|48.9|7.578|\n",
            "|10/03/2004|19.00.00|     2|       1292|     112|     9.4|          955|    103|        1174|     92|        1559|        972|13.3|47.7|7.255|\n",
            "|10/03/2004|20.00.00|   2.2|       1402|      88|     9.0|          939|    131|        1140|    114|        1555|       1074|11.9|54.0|7.502|\n",
            "|10/03/2004|21.00.00|   2.2|       1376|      80|     9.2|          948|    172|        1092|    122|        1584|       1203|11.0|60.0|7.867|\n",
            "|10/03/2004|22.00.00|   1.6|       1272|      51|     6.5|          836|    131|        1205|    116|        1490|       1110|11.2|59.6|7.888|\n",
            "|10/03/2004|23.00.00|   1.2|       1197|      38|     4.7|          750|     89|        1337|     96|        1393|        949|11.2|59.2|7.848|\n",
            "|11/03/2004|00.00.00|   1.2|       1185|      31|     3.6|          690|     62|        1462|     77|        1333|        733|11.3|56.8|7.603|\n",
            "|11/03/2004|01.00.00|     1|       1136|      31|     3.3|          672|     62|        1453|     76|        1333|        730|10.7|60.0|7.702|\n",
            "|11/03/2004|02.00.00|   0.9|       1094|      24|     2.3|          609|     45|        1579|     60|        1276|        620|10.7|59.7|7.648|\n",
            "|11/03/2004|03.00.00|   0.6|       1010|      19|     1.7|          561|   -200|        1705|   -200|        1235|        501|10.3|60.2|7.517|\n",
            "|11/03/2004|04.00.00|  -200|       1011|      14|     1.3|          527|     21|        1818|     34|        1197|        445|10.1|60.5|7.465|\n",
            "|11/03/2004|05.00.00|   0.7|       1066|       8|     1.1|          512|     16|        1918|     28|        1182|        422|11.0|56.2|7.366|\n",
            "|11/03/2004|06.00.00|   0.7|       1052|      16|     1.6|          553|     34|        1738|     48|        1221|        472|10.5|58.1|7.353|\n",
            "|11/03/2004|07.00.00|   1.1|       1144|      29|     3.2|          667|     98|        1490|     82|        1339|        730|10.2|59.6|7.417|\n",
            "|11/03/2004|08.00.00|     2|       1333|      64|     8.0|          900|    174|        1136|    112|        1517|       1102|10.8|57.4|7.408|\n",
            "|11/03/2004|09.00.00|   2.2|       1351|      87|     9.5|          960|    129|        1079|    101|        1583|       1028|10.5|60.6|7.691|\n",
            "|11/03/2004|10.00.00|   1.7|       1233|      77|     6.3|          827|    112|        1218|     98|        1446|        860|10.8|58.4|7.552|\n",
            "|11/03/2004|11.00.00|   1.5|       1179|      43|     5.0|          762|     95|        1328|     92|        1362|        671|10.5|57.9|7.352|\n",
            "|11/03/2004|12.00.00|   1.6|       1236|      61|     5.2|          774|    104|        1301|     95|        1401|        664| 9.5|66.8|7.951|\n",
            "|11/03/2004|13.00.00|   1.9|       1286|      63|     7.3|          869|    146|        1162|    112|        1537|        799| 8.3|76.4|8.393|\n",
            "+----------+--------+------+-----------+--------+--------+-------------+-------+------------+-------+------------+-----------+----+----+-----+\n",
            "only showing top 20 rows\n",
            "\n"
          ]
        }
      ],
      "source": [
        "from pyspark.sql.functions import col, regexp_replace\n",
        "columns_to_change = [\"CO(GT)\", \"NMHC(GT)\", \"C6H6(GT)\", \"T\", \"RH\", \"AH\", ]\n",
        "\n",
        "for column in columns_to_change:\n",
        "    data = data.withColumn(column, regexp_replace(col(column), ',', '.'))\n",
        "\n",
        "data.show()"
      ]
    },
    {
      "cell_type": "markdown",
      "metadata": {
        "id": "LX5Ex-You_N7"
      },
      "source": [
        "I want to rename columns with lower letters and underscores only, no other characters"
      ]
    },
    {
      "cell_type": "code",
      "execution_count": null,
      "metadata": {
        "id": "mFBeQJSmuLNS",
        "colab": {
          "base_uri": "https://localhost:8080/"
        },
        "outputId": "9d6487e0-c872-4ee3-f3ff-92b179495f25"
      },
      "outputs": [
        {
          "output_type": "stream",
          "name": "stdout",
          "text": [
            "+----------+--------+----+---------+------+------+-----------+-----+----------+-----+----------+---------+----+----+-----+\n",
            "|      date|    time|cogt|pt08_s1co|nmhcgt|c6h6gt|pt08_s2nmhc|noxgt|pt08_s3nox|no2gt|pt08_s4no2|pt08_s5o3|   t|  rh|   ah|\n",
            "+----------+--------+----+---------+------+------+-----------+-----+----------+-----+----------+---------+----+----+-----+\n",
            "|10/03/2004|18.00.00| 2.6|     1360|   150|  11.9|       1046|  166|      1056|  113|      1692|     1268|13.6|48.9|7.578|\n",
            "|10/03/2004|19.00.00|   2|     1292|   112|   9.4|        955|  103|      1174|   92|      1559|      972|13.3|47.7|7.255|\n",
            "|10/03/2004|20.00.00| 2.2|     1402|    88|   9.0|        939|  131|      1140|  114|      1555|     1074|11.9|54.0|7.502|\n",
            "|10/03/2004|21.00.00| 2.2|     1376|    80|   9.2|        948|  172|      1092|  122|      1584|     1203|11.0|60.0|7.867|\n",
            "|10/03/2004|22.00.00| 1.6|     1272|    51|   6.5|        836|  131|      1205|  116|      1490|     1110|11.2|59.6|7.888|\n",
            "|10/03/2004|23.00.00| 1.2|     1197|    38|   4.7|        750|   89|      1337|   96|      1393|      949|11.2|59.2|7.848|\n",
            "|11/03/2004|00.00.00| 1.2|     1185|    31|   3.6|        690|   62|      1462|   77|      1333|      733|11.3|56.8|7.603|\n",
            "|11/03/2004|01.00.00|   1|     1136|    31|   3.3|        672|   62|      1453|   76|      1333|      730|10.7|60.0|7.702|\n",
            "|11/03/2004|02.00.00| 0.9|     1094|    24|   2.3|        609|   45|      1579|   60|      1276|      620|10.7|59.7|7.648|\n",
            "|11/03/2004|03.00.00| 0.6|     1010|    19|   1.7|        561| -200|      1705| -200|      1235|      501|10.3|60.2|7.517|\n",
            "|11/03/2004|04.00.00|-200|     1011|    14|   1.3|        527|   21|      1818|   34|      1197|      445|10.1|60.5|7.465|\n",
            "|11/03/2004|05.00.00| 0.7|     1066|     8|   1.1|        512|   16|      1918|   28|      1182|      422|11.0|56.2|7.366|\n",
            "|11/03/2004|06.00.00| 0.7|     1052|    16|   1.6|        553|   34|      1738|   48|      1221|      472|10.5|58.1|7.353|\n",
            "|11/03/2004|07.00.00| 1.1|     1144|    29|   3.2|        667|   98|      1490|   82|      1339|      730|10.2|59.6|7.417|\n",
            "|11/03/2004|08.00.00|   2|     1333|    64|   8.0|        900|  174|      1136|  112|      1517|     1102|10.8|57.4|7.408|\n",
            "|11/03/2004|09.00.00| 2.2|     1351|    87|   9.5|        960|  129|      1079|  101|      1583|     1028|10.5|60.6|7.691|\n",
            "|11/03/2004|10.00.00| 1.7|     1233|    77|   6.3|        827|  112|      1218|   98|      1446|      860|10.8|58.4|7.552|\n",
            "|11/03/2004|11.00.00| 1.5|     1179|    43|   5.0|        762|   95|      1328|   92|      1362|      671|10.5|57.9|7.352|\n",
            "|11/03/2004|12.00.00| 1.6|     1236|    61|   5.2|        774|  104|      1301|   95|      1401|      664| 9.5|66.8|7.951|\n",
            "|11/03/2004|13.00.00| 1.9|     1286|    63|   7.3|        869|  146|      1162|  112|      1537|      799| 8.3|76.4|8.393|\n",
            "+----------+--------+----+---------+------+------+-----------+-----+----------+-----+----------+---------+----+----+-----+\n",
            "only showing top 20 rows\n",
            "\n"
          ]
        }
      ],
      "source": [
        "current_cols = data.columns\n",
        "new_cols = [col.lower().replace('(', '').replace(')', '').replace('.', '_').replace(' ', '_') for col in current_cols]\n",
        "\n",
        "data = data.toDF(*new_cols)\n",
        "\n",
        "data.show()"
      ]
    },
    {
      "cell_type": "code",
      "execution_count": null,
      "metadata": {
        "id": "SdrmQlgdvEUH",
        "colab": {
          "base_uri": "https://localhost:8080/"
        },
        "outputId": "68ee1e24-a91e-4f9f-a0cf-b07871f840d2"
      },
      "outputs": [
        {
          "output_type": "stream",
          "name": "stdout",
          "text": [
            "root\n",
            " |-- date: date (nullable = true)\n",
            " |-- time: string (nullable = true)\n",
            " |-- cogt: double (nullable = true)\n",
            " |-- pt08_s1co: double (nullable = true)\n",
            " |-- nmhcgt: double (nullable = true)\n",
            " |-- c6h6gt: double (nullable = true)\n",
            " |-- pt08_s2nmhc: double (nullable = true)\n",
            " |-- noxgt: double (nullable = true)\n",
            " |-- pt08_s3nox: double (nullable = true)\n",
            " |-- no2gt: double (nullable = true)\n",
            " |-- pt08_s4no2: double (nullable = true)\n",
            " |-- pt08_s5o3: double (nullable = true)\n",
            " |-- t: double (nullable = true)\n",
            " |-- rh: double (nullable = true)\n",
            " |-- ah: double (nullable = true)\n",
            "\n"
          ]
        }
      ],
      "source": [
        "from pyspark.sql.functions import col\n",
        "from pyspark.sql.functions import to_date\n",
        "data = data.withColumn(\"date\", to_date(\"date\", \"dd/MM/yyyy\"))\n",
        "\n",
        "\n",
        "\n",
        "double_cols = ['cogt', 'pt08_s1co', 'nmhcgt', 'c6h6gt', 'pt08_s2nmhc', 'noxgt', 'pt08_s3nox', \\\n",
        "               'no2gt', 'pt08_s4no2', 'pt08_s5o3', 't', 'rh', 'ah']\n",
        "for col_name in double_cols:\n",
        "    data = data.withColumn(col_name, col(col_name).cast('double'))\n",
        "\n",
        "data.printSchema()"
      ]
    },
    {
      "cell_type": "markdown",
      "metadata": {
        "id": "qKCnxpv9wPoe"
      },
      "source": [
        "Now, the datatypes are also changed\n"
      ]
    },
    {
      "cell_type": "code",
      "execution_count": null,
      "metadata": {
        "id": "HrLLAkfLwVSz",
        "colab": {
          "base_uri": "https://localhost:8080/"
        },
        "outputId": "87585982-666f-4b98-87f6-6cd5e8ca0a34"
      },
      "outputs": [
        {
          "output_type": "stream",
          "name": "stdout",
          "text": [
            "+----------+--------+------+---------+------+------+-----------+------+----------+------+----------+---------+----+----+-----+\n",
            "|      date|    time|  cogt|pt08_s1co|nmhcgt|c6h6gt|pt08_s2nmhc| noxgt|pt08_s3nox| no2gt|pt08_s4no2|pt08_s5o3|   t|  rh|   ah|\n",
            "+----------+--------+------+---------+------+------+-----------+------+----------+------+----------+---------+----+----+-----+\n",
            "|2004-03-10|18.00.00|   2.6|   1360.0| 150.0|  11.9|     1046.0| 166.0|    1056.0| 113.0|    1692.0|   1268.0|13.6|48.9|7.578|\n",
            "|2004-03-10|19.00.00|   2.0|   1292.0| 112.0|   9.4|      955.0| 103.0|    1174.0|  92.0|    1559.0|    972.0|13.3|47.7|7.255|\n",
            "|2004-03-10|20.00.00|   2.2|   1402.0|  88.0|   9.0|      939.0| 131.0|    1140.0| 114.0|    1555.0|   1074.0|11.9|54.0|7.502|\n",
            "|2004-03-10|21.00.00|   2.2|   1376.0|  80.0|   9.2|      948.0| 172.0|    1092.0| 122.0|    1584.0|   1203.0|11.0|60.0|7.867|\n",
            "|2004-03-10|22.00.00|   1.6|   1272.0|  51.0|   6.5|      836.0| 131.0|    1205.0| 116.0|    1490.0|   1110.0|11.2|59.6|7.888|\n",
            "|2004-03-10|23.00.00|   1.2|   1197.0|  38.0|   4.7|      750.0|  89.0|    1337.0|  96.0|    1393.0|    949.0|11.2|59.2|7.848|\n",
            "|2004-03-11|00.00.00|   1.2|   1185.0|  31.0|   3.6|      690.0|  62.0|    1462.0|  77.0|    1333.0|    733.0|11.3|56.8|7.603|\n",
            "|2004-03-11|01.00.00|   1.0|   1136.0|  31.0|   3.3|      672.0|  62.0|    1453.0|  76.0|    1333.0|    730.0|10.7|60.0|7.702|\n",
            "|2004-03-11|02.00.00|   0.9|   1094.0|  24.0|   2.3|      609.0|  45.0|    1579.0|  60.0|    1276.0|    620.0|10.7|59.7|7.648|\n",
            "|2004-03-11|03.00.00|   0.6|   1010.0|  19.0|   1.7|      561.0|-200.0|    1705.0|-200.0|    1235.0|    501.0|10.3|60.2|7.517|\n",
            "|2004-03-11|04.00.00|-200.0|   1011.0|  14.0|   1.3|      527.0|  21.0|    1818.0|  34.0|    1197.0|    445.0|10.1|60.5|7.465|\n",
            "|2004-03-11|05.00.00|   0.7|   1066.0|   8.0|   1.1|      512.0|  16.0|    1918.0|  28.0|    1182.0|    422.0|11.0|56.2|7.366|\n",
            "|2004-03-11|06.00.00|   0.7|   1052.0|  16.0|   1.6|      553.0|  34.0|    1738.0|  48.0|    1221.0|    472.0|10.5|58.1|7.353|\n",
            "|2004-03-11|07.00.00|   1.1|   1144.0|  29.0|   3.2|      667.0|  98.0|    1490.0|  82.0|    1339.0|    730.0|10.2|59.6|7.417|\n",
            "|2004-03-11|08.00.00|   2.0|   1333.0|  64.0|   8.0|      900.0| 174.0|    1136.0| 112.0|    1517.0|   1102.0|10.8|57.4|7.408|\n",
            "|2004-03-11|09.00.00|   2.2|   1351.0|  87.0|   9.5|      960.0| 129.0|    1079.0| 101.0|    1583.0|   1028.0|10.5|60.6|7.691|\n",
            "|2004-03-11|10.00.00|   1.7|   1233.0|  77.0|   6.3|      827.0| 112.0|    1218.0|  98.0|    1446.0|    860.0|10.8|58.4|7.552|\n",
            "|2004-03-11|11.00.00|   1.5|   1179.0|  43.0|   5.0|      762.0|  95.0|    1328.0|  92.0|    1362.0|    671.0|10.5|57.9|7.352|\n",
            "|2004-03-11|12.00.00|   1.6|   1236.0|  61.0|   5.2|      774.0| 104.0|    1301.0|  95.0|    1401.0|    664.0| 9.5|66.8|7.951|\n",
            "|2004-03-11|13.00.00|   1.9|   1286.0|  63.0|   7.3|      869.0| 146.0|    1162.0| 112.0|    1537.0|    799.0| 8.3|76.4|8.393|\n",
            "+----------+--------+------+---------+------+------+-----------+------+----------+------+----------+---------+----+----+-----+\n",
            "only showing top 20 rows\n",
            "\n"
          ]
        }
      ],
      "source": [
        "data.show()"
      ]
    },
    {
      "cell_type": "markdown",
      "metadata": {
        "id": "twveQELY1RpX"
      },
      "source": [
        "Now I want to check for any null values\n",
        "\n"
      ]
    },
    {
      "cell_type": "code",
      "execution_count": null,
      "metadata": {
        "id": "DJ_-ItKr4Jx5",
        "colab": {
          "base_uri": "https://localhost:8080/"
        },
        "outputId": "1fb9de60-d026-454c-cfac-999fc827c152"
      },
      "outputs": [
        {
          "output_type": "execute_result",
          "data": {
            "text/plain": [
              "{'date': 0,\n",
              " 'time': 0,\n",
              " 'cogt': 0,\n",
              " 'pt08_s1co': 0,\n",
              " 'nmhcgt': 0,\n",
              " 'c6h6gt': 0,\n",
              " 'pt08_s2nmhc': 0,\n",
              " 'noxgt': 0,\n",
              " 'pt08_s3nox': 0,\n",
              " 'no2gt': 0,\n",
              " 'pt08_s4no2': 0,\n",
              " 'pt08_s5o3': 0,\n",
              " 't': 0,\n",
              " 'rh': 0,\n",
              " 'ah': 0}"
            ]
          },
          "metadata": {},
          "execution_count": 11
        }
      ],
      "source": [
        "null_counts = {col: data.where(data[col].isNull()).count() for col in data.columns}\n",
        "null_counts\n",
        "\n"
      ]
    },
    {
      "cell_type": "markdown",
      "metadata": {
        "id": "RLSdAqiKY4Me"
      },
      "source": [
        "There are no null values, but instead the null values are filled with value `-200.0` in the data."
      ]
    },
    {
      "cell_type": "code",
      "execution_count": null,
      "metadata": {
        "id": "h23pEZUwA1O-"
      },
      "outputs": [],
      "source": [
        "from pyspark.sql.functions import col, expr\n",
        "\n",
        "\n",
        "num_cols = [\"cogt\", \"pt08_s1co\", \"nmhcgt\", \"c6h6gt\", \"pt08_s2nmhc\", \"noxgt\", \"pt08_s3nox\", \"no2gt\",\n",
        "            \"pt08_s4no2\", \"pt08_s5o3\", \"t\", \"rh\", \"ah\"]\n",
        "\n",
        "quartiles = data.approxQuantile(num_cols, [0.25, 0.75], 0.01)\n",
        "iqr_dict = {col_name: quartiles[num_cols.index(col_name)][1] - quartiles[num_cols.index(col_name)][0]\n",
        "            for col_name in num_cols}\n",
        "bounds_dict = {col_name: (quartiles[num_cols.index(col_name)][0] - 1.5 * iqr_dict[col_name],\n",
        "                          quartiles[num_cols.index(col_name)][1] + 1.5 * iqr_dict[col_name])\n",
        "               for col_name in num_cols}\n",
        "outliers_expr = [expr(f\"{col_name} < {bounds_dict[col_name][0]} or {col_name} > {bounds_dict[col_name][1]}\")\n",
        "                 for col_name in num_cols]\n",
        "\n",
        "filtered_data = data.filter(~(outliers_expr[0] & outliers_expr[1] & outliers_expr[2] & outliers_expr[3] &\n",
        "                               outliers_expr[4] & outliers_expr[5] & outliers_expr[6] & outliers_expr[7] &\n",
        "                               outliers_expr[8] & outliers_expr[9] & outliers_expr[10] & outliers_expr[11] &\n",
        "                               outliers_expr[12]))"
      ]
    },
    {
      "cell_type": "code",
      "execution_count": null,
      "metadata": {
        "id": "iW96wScECRNX",
        "colab": {
          "base_uri": "https://localhost:8080/"
        },
        "outputId": "4f3ade40-abf0-4170-a318-33baf2427bab"
      },
      "outputs": [
        {
          "output_type": "stream",
          "name": "stdout",
          "text": [
            "+----------+--------+------+---------+------+------+-----------+------+----------+------+----------+---------+----+----+-----+\n",
            "|      date|    time|  cogt|pt08_s1co|nmhcgt|c6h6gt|pt08_s2nmhc| noxgt|pt08_s3nox| no2gt|pt08_s4no2|pt08_s5o3|   t|  rh|   ah|\n",
            "+----------+--------+------+---------+------+------+-----------+------+----------+------+----------+---------+----+----+-----+\n",
            "|2004-03-10|18.00.00|   2.6|   1360.0| 150.0|  11.9|     1046.0| 166.0|    1056.0| 113.0|    1692.0|   1268.0|13.6|48.9|7.578|\n",
            "|2004-03-10|19.00.00|   2.0|   1292.0| 112.0|   9.4|      955.0| 103.0|    1174.0|  92.0|    1559.0|    972.0|13.3|47.7|7.255|\n",
            "|2004-03-10|20.00.00|   2.2|   1402.0|  88.0|   9.0|      939.0| 131.0|    1140.0| 114.0|    1555.0|   1074.0|11.9|54.0|7.502|\n",
            "|2004-03-10|21.00.00|   2.2|   1376.0|  80.0|   9.2|      948.0| 172.0|    1092.0| 122.0|    1584.0|   1203.0|11.0|60.0|7.867|\n",
            "|2004-03-10|22.00.00|   1.6|   1272.0|  51.0|   6.5|      836.0| 131.0|    1205.0| 116.0|    1490.0|   1110.0|11.2|59.6|7.888|\n",
            "|2004-03-10|23.00.00|   1.2|   1197.0|  38.0|   4.7|      750.0|  89.0|    1337.0|  96.0|    1393.0|    949.0|11.2|59.2|7.848|\n",
            "|2004-03-11|00.00.00|   1.2|   1185.0|  31.0|   3.6|      690.0|  62.0|    1462.0|  77.0|    1333.0|    733.0|11.3|56.8|7.603|\n",
            "|2004-03-11|01.00.00|   1.0|   1136.0|  31.0|   3.3|      672.0|  62.0|    1453.0|  76.0|    1333.0|    730.0|10.7|60.0|7.702|\n",
            "|2004-03-11|02.00.00|   0.9|   1094.0|  24.0|   2.3|      609.0|  45.0|    1579.0|  60.0|    1276.0|    620.0|10.7|59.7|7.648|\n",
            "|2004-03-11|03.00.00|   0.6|   1010.0|  19.0|   1.7|      561.0|-200.0|    1705.0|-200.0|    1235.0|    501.0|10.3|60.2|7.517|\n",
            "|2004-03-11|04.00.00|-200.0|   1011.0|  14.0|   1.3|      527.0|  21.0|    1818.0|  34.0|    1197.0|    445.0|10.1|60.5|7.465|\n",
            "|2004-03-11|05.00.00|   0.7|   1066.0|   8.0|   1.1|      512.0|  16.0|    1918.0|  28.0|    1182.0|    422.0|11.0|56.2|7.366|\n",
            "|2004-03-11|06.00.00|   0.7|   1052.0|  16.0|   1.6|      553.0|  34.0|    1738.0|  48.0|    1221.0|    472.0|10.5|58.1|7.353|\n",
            "|2004-03-11|07.00.00|   1.1|   1144.0|  29.0|   3.2|      667.0|  98.0|    1490.0|  82.0|    1339.0|    730.0|10.2|59.6|7.417|\n",
            "|2004-03-11|08.00.00|   2.0|   1333.0|  64.0|   8.0|      900.0| 174.0|    1136.0| 112.0|    1517.0|   1102.0|10.8|57.4|7.408|\n",
            "|2004-03-11|09.00.00|   2.2|   1351.0|  87.0|   9.5|      960.0| 129.0|    1079.0| 101.0|    1583.0|   1028.0|10.5|60.6|7.691|\n",
            "|2004-03-11|10.00.00|   1.7|   1233.0|  77.0|   6.3|      827.0| 112.0|    1218.0|  98.0|    1446.0|    860.0|10.8|58.4|7.552|\n",
            "|2004-03-11|11.00.00|   1.5|   1179.0|  43.0|   5.0|      762.0|  95.0|    1328.0|  92.0|    1362.0|    671.0|10.5|57.9|7.352|\n",
            "|2004-03-11|12.00.00|   1.6|   1236.0|  61.0|   5.2|      774.0| 104.0|    1301.0|  95.0|    1401.0|    664.0| 9.5|66.8|7.951|\n",
            "|2004-03-11|13.00.00|   1.9|   1286.0|  63.0|   7.3|      869.0| 146.0|    1162.0| 112.0|    1537.0|    799.0| 8.3|76.4|8.393|\n",
            "+----------+--------+------+---------+------+------+-----------+------+----------+------+----------+---------+----+----+-----+\n",
            "only showing top 20 rows\n",
            "\n"
          ]
        }
      ],
      "source": [
        "filtered_data.show()"
      ]
    },
    {
      "cell_type": "code",
      "execution_count": null,
      "metadata": {
        "id": "QPDd-X3gEheE",
        "colab": {
          "base_uri": "https://localhost:8080/"
        },
        "outputId": "c28e4fb3-7f3d-44d8-bfbf-8960a5fab38c"
      },
      "outputs": [
        {
          "output_type": "stream",
          "name": "stdout",
          "text": [
            "root\n",
            " |-- date: date (nullable = true)\n",
            " |-- time: string (nullable = true)\n",
            " |-- cogt: double (nullable = true)\n",
            " |-- pt08_s1co: double (nullable = true)\n",
            " |-- nmhcgt: double (nullable = true)\n",
            " |-- c6h6gt: double (nullable = true)\n",
            " |-- pt08_s2nmhc: double (nullable = true)\n",
            " |-- noxgt: double (nullable = true)\n",
            " |-- pt08_s3nox: double (nullable = true)\n",
            " |-- no2gt: double (nullable = true)\n",
            " |-- pt08_s4no2: double (nullable = true)\n",
            " |-- pt08_s5o3: double (nullable = true)\n",
            " |-- t: double (nullable = true)\n",
            " |-- rh: double (nullable = true)\n",
            " |-- ah: double (nullable = true)\n",
            "\n"
          ]
        }
      ],
      "source": [
        "filtered_data.printSchema()"
      ]
    },
    {
      "cell_type": "code",
      "execution_count": null,
      "metadata": {
        "id": "bc11eZDdeIQb",
        "colab": {
          "base_uri": "https://localhost:8080/"
        },
        "outputId": "26190533-7718-4f6b-f6cf-ce2507501d0b"
      },
      "outputs": [
        {
          "output_type": "execute_result",
          "data": {
            "text/plain": [
              "['date',\n",
              " 'time',\n",
              " 'cogt',\n",
              " 'pt08_s1co',\n",
              " 'nmhcgt',\n",
              " 'c6h6gt',\n",
              " 'pt08_s2nmhc',\n",
              " 'noxgt',\n",
              " 'pt08_s3nox',\n",
              " 'no2gt',\n",
              " 'pt08_s4no2',\n",
              " 'pt08_s5o3',\n",
              " 't',\n",
              " 'rh',\n",
              " 'ah']"
            ]
          },
          "metadata": {},
          "execution_count": 15
        }
      ],
      "source": [
        "filtered_data.columns"
      ]
    },
    {
      "cell_type": "markdown",
      "metadata": {
        "id": "dGrwtFFkcZel"
      },
      "source": [
        "I can see that the some values in the dataset are with `-200.0` values. These are probably the missing values. I would like to remove these too."
      ]
    },
    {
      "cell_type": "code",
      "execution_count": null,
      "metadata": {
        "id": "8h6Mzmibd32_"
      },
      "outputs": [],
      "source": [
        "from pyspark.sql.functions import col\n",
        "\n",
        "cleaned_data = filtered_data.filter((col(\"cogt\") != -200.0) &\n",
        "                                    (col(\"pt08_s1co\") != -200.0) &\n",
        "                                    (col(\"nmhcgt\") != -200.0) &\n",
        "                                    (col(\"c6h6gt\") != -200.0) &\n",
        "                                    (col(\"pt08_s2nmhc\") != -200.0) &\n",
        "                                    (col(\"noxgt\") != -200.0) &\n",
        "                                    (col(\"pt08_s3nox\") != -200.0) &\n",
        "                                    (col(\"no2gt\") != -200.0) &\n",
        "                                    (col(\"pt08_s4no2\") != -200.0) &\n",
        "                                    (col(\"pt08_s5o3\") != -200.0) &\n",
        "                                    (col(\"t\") != -200.0) &\n",
        "                                    (col(\"rh\") != -200.0) &\n",
        "                                    (col(\"ah\") != -200.0)\n",
        ")\n"
      ]
    },
    {
      "cell_type": "code",
      "execution_count": null,
      "metadata": {
        "id": "CnGiWhNWgoyY",
        "colab": {
          "base_uri": "https://localhost:8080/"
        },
        "outputId": "5955d2ea-27fe-41b6-ac62-a32d75e9e8ce"
      },
      "outputs": [
        {
          "output_type": "stream",
          "name": "stdout",
          "text": [
            "+----------+--------+----+---------+------+------+-----------+-----+----------+-----+----------+---------+----+----+-----+\n",
            "|date      |time    |cogt|pt08_s1co|nmhcgt|c6h6gt|pt08_s2nmhc|noxgt|pt08_s3nox|no2gt|pt08_s4no2|pt08_s5o3|t   |rh  |ah   |\n",
            "+----------+--------+----+---------+------+------+-----------+-----+----------+-----+----------+---------+----+----+-----+\n",
            "|2004-03-10|18.00.00|2.6 |1360.0   |150.0 |11.9  |1046.0     |166.0|1056.0    |113.0|1692.0    |1268.0   |13.6|48.9|7.578|\n",
            "|2004-03-10|19.00.00|2.0 |1292.0   |112.0 |9.4   |955.0      |103.0|1174.0    |92.0 |1559.0    |972.0    |13.3|47.7|7.255|\n",
            "|2004-03-10|20.00.00|2.2 |1402.0   |88.0  |9.0   |939.0      |131.0|1140.0    |114.0|1555.0    |1074.0   |11.9|54.0|7.502|\n",
            "|2004-03-10|21.00.00|2.2 |1376.0   |80.0  |9.2   |948.0      |172.0|1092.0    |122.0|1584.0    |1203.0   |11.0|60.0|7.867|\n",
            "|2004-03-10|22.00.00|1.6 |1272.0   |51.0  |6.5   |836.0      |131.0|1205.0    |116.0|1490.0    |1110.0   |11.2|59.6|7.888|\n",
            "|2004-03-10|23.00.00|1.2 |1197.0   |38.0  |4.7   |750.0      |89.0 |1337.0    |96.0 |1393.0    |949.0    |11.2|59.2|7.848|\n",
            "|2004-03-11|00.00.00|1.2 |1185.0   |31.0  |3.6   |690.0      |62.0 |1462.0    |77.0 |1333.0    |733.0    |11.3|56.8|7.603|\n",
            "|2004-03-11|01.00.00|1.0 |1136.0   |31.0  |3.3   |672.0      |62.0 |1453.0    |76.0 |1333.0    |730.0    |10.7|60.0|7.702|\n",
            "|2004-03-11|02.00.00|0.9 |1094.0   |24.0  |2.3   |609.0      |45.0 |1579.0    |60.0 |1276.0    |620.0    |10.7|59.7|7.648|\n",
            "|2004-03-11|05.00.00|0.7 |1066.0   |8.0   |1.1   |512.0      |16.0 |1918.0    |28.0 |1182.0    |422.0    |11.0|56.2|7.366|\n",
            "|2004-03-11|06.00.00|0.7 |1052.0   |16.0  |1.6   |553.0      |34.0 |1738.0    |48.0 |1221.0    |472.0    |10.5|58.1|7.353|\n",
            "|2004-03-11|07.00.00|1.1 |1144.0   |29.0  |3.2   |667.0      |98.0 |1490.0    |82.0 |1339.0    |730.0    |10.2|59.6|7.417|\n",
            "|2004-03-11|08.00.00|2.0 |1333.0   |64.0  |8.0   |900.0      |174.0|1136.0    |112.0|1517.0    |1102.0   |10.8|57.4|7.408|\n",
            "|2004-03-11|09.00.00|2.2 |1351.0   |87.0  |9.5   |960.0      |129.0|1079.0    |101.0|1583.0    |1028.0   |10.5|60.6|7.691|\n",
            "|2004-03-11|10.00.00|1.7 |1233.0   |77.0  |6.3   |827.0      |112.0|1218.0    |98.0 |1446.0    |860.0    |10.8|58.4|7.552|\n",
            "|2004-03-11|11.00.00|1.5 |1179.0   |43.0  |5.0   |762.0      |95.0 |1328.0    |92.0 |1362.0    |671.0    |10.5|57.9|7.352|\n",
            "|2004-03-11|12.00.00|1.6 |1236.0   |61.0  |5.2   |774.0      |104.0|1301.0    |95.0 |1401.0    |664.0    |9.5 |66.8|7.951|\n",
            "|2004-03-11|13.00.00|1.9 |1286.0   |63.0  |7.3   |869.0      |146.0|1162.0    |112.0|1537.0    |799.0    |8.3 |76.4|8.393|\n",
            "|2004-03-11|14.00.00|2.9 |1371.0   |164.0 |11.5  |1034.0     |207.0|983.0     |128.0|1730.0    |1037.0   |8.0 |81.1|8.736|\n",
            "|2004-03-11|15.00.00|2.2 |1310.0   |79.0  |8.8   |933.0      |184.0|1082.0    |126.0|1647.0    |946.0    |8.3 |79.8|8.778|\n",
            "+----------+--------+----+---------+------+------+-----------+-----+----------+-----+----------+---------+----+----+-----+\n",
            "only showing top 20 rows\n",
            "\n"
          ]
        }
      ],
      "source": [
        "cleaned_data.show(truncate = False)"
      ]
    },
    {
      "cell_type": "markdown",
      "metadata": {
        "id": "iRHxSXv8g5JD"
      },
      "source": [
        "And now, I believe this is the cleanest data, with no missing value, no outliers etc."
      ]
    },
    {
      "cell_type": "markdown",
      "metadata": {
        "id": "7vn1ZLLh8WhW"
      },
      "source": [
        "# Section 3: Transform the clean data\n",
        "\n",
        "10 points\n",
        "\n",
        "Once you have clean data, start to prepare it to fit your analysis tools. This might mean using custom code to normalize certain values, joining supplemental datasets, and/or preparing it for machine learning.\n",
        "\n",
        "### This section should include one or more of the following:\n",
        "- Write a Udata to perform a function, then use it to add a new column to your data. Explain why in [markdown](https://www.markdownguide.org/cheat-sheet)\n",
        "- Join an outside data source. (It can be one you've prepared alongside the primary source you're using, as long as you link it)\n",
        "- Split the data into train/test sets\n",
        "- Create vectors for relavent features\n",
        "- One-hot encode catagorical variables"
      ]
    },
    {
      "cell_type": "markdown",
      "metadata": {
        "id": "yenLpQpDKcy0"
      },
      "source": [
        "I have given a hypotheses above, and selected some of the relavent features, without performing any analysis.\n",
        "I feel like temperature is positively correlated to levels of pollutants in air. But, lets do the correlation analysis and then come to conclusion. Then I will select the relavent features"
      ]
    },
    {
      "cell_type": "code",
      "execution_count": null,
      "metadata": {
        "id": "buHJ1SEJHvMK"
      },
      "outputs": [],
      "source": [
        "from pyspark.sql.functions import corr\n",
        "\n",
        "cols_for_corr = [\"cogt\", \"nmhcgt\", \"c6h6gt\", \"noxgt\", \"no2gt\", \"pt08_s1co\", \"pt08_s2nmhc\",\n",
        "                 \"pt08_s3nox\", \"pt08_s4no2\", \"pt08_s5o3\", \"t\"]\n",
        "\n",
        "#Calculating correlation between pollutants and temperature\n",
        "correlation_data = cleaned_data.select([corr(col1, col2).alias(f\"correlation_{col1}_temperature\")\n",
        "                                for col1 in cols_for_corr for col2 in [\"t\"]])"
      ]
    },
    {
      "cell_type": "code",
      "execution_count": null,
      "metadata": {
        "id": "JzP-6MHyLOCe",
        "colab": {
          "base_uri": "https://localhost:8080/"
        },
        "outputId": "6a265ddd-8b68-4f1b-e601-c5b390092982"
      },
      "outputs": [
        {
          "output_type": "stream",
          "name": "stdout",
          "text": [
            "+----------------------------+------------------------------+------------------------------+-----------------------------+-----------------------------+---------------------------------+-----------------------------------+----------------------------------+----------------------------------+---------------------------------+-------------------------+\n",
            "|correlation_cogt_temperature|correlation_nmhcgt_temperature|correlation_c6h6gt_temperature|correlation_noxgt_temperature|correlation_no2gt_temperature|correlation_pt08_s1co_temperature|correlation_pt08_s2nmhc_temperature|correlation_pt08_s3nox_temperature|correlation_pt08_s4no2_temperature|correlation_pt08_s5o3_temperature|correlation_t_temperature|\n",
            "+----------------------------+------------------------------+------------------------------+-----------------------------+-----------------------------+---------------------------------+-----------------------------------+----------------------------------+----------------------------------+---------------------------------+-------------------------+\n",
            "|0.3182609251002484          |0.366976094148898             |0.418408649676068             |0.2383948730750085           |0.4068066398002453           |0.3248153339266287               |0.4456145897550532                 |-0.4239460381939886               |0.343626409334353                 |0.31345790064990364              |1.0                      |\n",
            "+----------------------------+------------------------------+------------------------------+-----------------------------+-----------------------------+---------------------------------+-----------------------------------+----------------------------------+----------------------------------+---------------------------------+-------------------------+\n",
            "\n"
          ]
        }
      ],
      "source": [
        "correlation_data.show(truncate = False)\n"
      ]
    },
    {
      "cell_type": "markdown",
      "metadata": {
        "id": "C8lAq6oJNwxw"
      },
      "source": [
        "\n",
        "**Positive Correlation:**\n",
        "\n",
        "The columns `cogt, nmhcgt, c6h6gt, noxgt, no2gt, pt08_s1co, pt08_s2nmhc, pt08_s4no2, and pt08_s5o3` exhibit positive correlations with `temperature`. This suggests that as the temperature increases, the levels of these pollutants also tend to increase.\n",
        "The correlation coefficients range from approximately `0.3 to 0.4`, indicating moderate positive correlations.\n",
        "\n",
        "**Weak or Negative Correlation:**\n",
        "\n",
        "The column `pt08_s3nox` show weak or negative correlations with temperature. This suggests that there might not be a clear relationship between these pollutants and temperature, or there might be other factors influencing their levels\n",
        "\n",
        "Based on these observations, I may consider selecting the following features for further analysis:\n",
        "\n",
        " - `cogt`\n",
        " - `nmhcgt`\n",
        " - `c6h6gt`\n",
        " - `noxgt`\n",
        " - `no2gt`\n",
        " - `pt08_s1co`\n",
        " - `pt08_s2nmhc`\n",
        " - `pt08_s4no2`\n",
        " - `pt08_s5o3`\n",
        "\n",
        "These features have a relatively strong positive correlation with temperature and are likely to be more relevant for exploring the hypothesis that pollutant levels are positively correlated with temperature.\n",
        "\n",
        "\n",
        "\n",
        "\n"
      ]
    },
    {
      "cell_type": "code",
      "execution_count": null,
      "metadata": {
        "id": "FMpYlqw4Qi1i"
      },
      "outputs": [],
      "source": [
        "selected_columns = [\"cogt\", \"nmhcgt\", \"c6h6gt\", \"noxgt\", \"no2gt\", \"pt08_s1co\", \"pt08_s2nmhc\", \"pt08_s4no2\", \"pt08_s5o3\", \"t\"]\n",
        "selected_data = cleaned_data.select(selected_columns)\n"
      ]
    },
    {
      "cell_type": "code",
      "execution_count": null,
      "metadata": {
        "id": "jX78GCtcQlhY",
        "colab": {
          "base_uri": "https://localhost:8080/"
        },
        "outputId": "14b9bd96-377f-4412-8a22-7d1d3db989bb"
      },
      "outputs": [
        {
          "output_type": "stream",
          "name": "stdout",
          "text": [
            "+----+------+------+-----+-----+---------+-----------+----------+---------+----+\n",
            "|cogt|nmhcgt|c6h6gt|noxgt|no2gt|pt08_s1co|pt08_s2nmhc|pt08_s4no2|pt08_s5o3|t   |\n",
            "+----+------+------+-----+-----+---------+-----------+----------+---------+----+\n",
            "|2.6 |150.0 |11.9  |166.0|113.0|1360.0   |1046.0     |1692.0    |1268.0   |13.6|\n",
            "|2.0 |112.0 |9.4   |103.0|92.0 |1292.0   |955.0      |1559.0    |972.0    |13.3|\n",
            "|2.2 |88.0  |9.0   |131.0|114.0|1402.0   |939.0      |1555.0    |1074.0   |11.9|\n",
            "|2.2 |80.0  |9.2   |172.0|122.0|1376.0   |948.0      |1584.0    |1203.0   |11.0|\n",
            "|1.6 |51.0  |6.5   |131.0|116.0|1272.0   |836.0      |1490.0    |1110.0   |11.2|\n",
            "|1.2 |38.0  |4.7   |89.0 |96.0 |1197.0   |750.0      |1393.0    |949.0    |11.2|\n",
            "|1.2 |31.0  |3.6   |62.0 |77.0 |1185.0   |690.0      |1333.0    |733.0    |11.3|\n",
            "|1.0 |31.0  |3.3   |62.0 |76.0 |1136.0   |672.0      |1333.0    |730.0    |10.7|\n",
            "|0.9 |24.0  |2.3   |45.0 |60.0 |1094.0   |609.0      |1276.0    |620.0    |10.7|\n",
            "|0.7 |8.0   |1.1   |16.0 |28.0 |1066.0   |512.0      |1182.0    |422.0    |11.0|\n",
            "|0.7 |16.0  |1.6   |34.0 |48.0 |1052.0   |553.0      |1221.0    |472.0    |10.5|\n",
            "|1.1 |29.0  |3.2   |98.0 |82.0 |1144.0   |667.0      |1339.0    |730.0    |10.2|\n",
            "|2.0 |64.0  |8.0   |174.0|112.0|1333.0   |900.0      |1517.0    |1102.0   |10.8|\n",
            "|2.2 |87.0  |9.5   |129.0|101.0|1351.0   |960.0      |1583.0    |1028.0   |10.5|\n",
            "|1.7 |77.0  |6.3   |112.0|98.0 |1233.0   |827.0      |1446.0    |860.0    |10.8|\n",
            "|1.5 |43.0  |5.0   |95.0 |92.0 |1179.0   |762.0      |1362.0    |671.0    |10.5|\n",
            "|1.6 |61.0  |5.2   |104.0|95.0 |1236.0   |774.0      |1401.0    |664.0    |9.5 |\n",
            "|1.9 |63.0  |7.3   |146.0|112.0|1286.0   |869.0      |1537.0    |799.0    |8.3 |\n",
            "|2.9 |164.0 |11.5  |207.0|128.0|1371.0   |1034.0     |1730.0    |1037.0   |8.0 |\n",
            "|2.2 |79.0  |8.8   |184.0|126.0|1310.0   |933.0      |1647.0    |946.0    |8.3 |\n",
            "+----+------+------+-----+-----+---------+-----------+----------+---------+----+\n",
            "only showing top 20 rows\n",
            "\n"
          ]
        }
      ],
      "source": [
        "selected_data.show(truncate = False)"
      ]
    },
    {
      "cell_type": "code",
      "execution_count": null,
      "metadata": {
        "id": "lZ9-dK4zQtKL",
        "colab": {
          "base_uri": "https://localhost:8080/"
        },
        "outputId": "6cd8ade0-5900-4d14-df30-30cd968f8e26"
      },
      "outputs": [
        {
          "output_type": "stream",
          "name": "stdout",
          "text": [
            "root\n",
            " |-- cogt: double (nullable = true)\n",
            " |-- nmhcgt: double (nullable = true)\n",
            " |-- c6h6gt: double (nullable = true)\n",
            " |-- noxgt: double (nullable = true)\n",
            " |-- no2gt: double (nullable = true)\n",
            " |-- pt08_s1co: double (nullable = true)\n",
            " |-- pt08_s2nmhc: double (nullable = true)\n",
            " |-- pt08_s4no2: double (nullable = true)\n",
            " |-- pt08_s5o3: double (nullable = true)\n",
            " |-- t: double (nullable = true)\n",
            "\n"
          ]
        }
      ],
      "source": [
        "selected_data.printSchema()"
      ]
    },
    {
      "cell_type": "markdown",
      "metadata": {
        "id": "b7Rz2JTBTpWg"
      },
      "source": [
        "Now, I wanted to split the data into test and train data"
      ]
    },
    {
      "cell_type": "code",
      "execution_count": null,
      "metadata": {
        "id": "AiADI8pRU4x4"
      },
      "outputs": [],
      "source": [
        "from pyspark.ml.feature import VectorAssembler\n",
        "\n",
        "assembler = VectorAssembler(\n",
        "    inputCols=[\"cogt\", \"nmhcgt\", \"c6h6gt\", \"noxgt\", \"no2gt\", \"pt08_s1co\", \"pt08_s2nmhc\", \"pt08_s4no2\", \"pt08_s5o3\"],\n",
        "    outputCol=\"features\")\n",
        "\n",
        "transformed_data = assembler.transform(selected_data)\n",
        "\n",
        "train_data, test_data = transformed_data.randomSplit([0.8, 0.2], seed=42)\n"
      ]
    },
    {
      "cell_type": "code",
      "execution_count": null,
      "metadata": {
        "id": "GFvQcG_9VjIt",
        "colab": {
          "base_uri": "https://localhost:8080/"
        },
        "outputId": "1cc0ba31-b565-4961-ca7c-8bca59626b7c"
      },
      "outputs": [
        {
          "output_type": "stream",
          "name": "stdout",
          "text": [
            "+----+------+------+-----+-----+---------+-----------+----------+---------+----+-------------------------------------------------+\n",
            "|cogt|nmhcgt|c6h6gt|noxgt|no2gt|pt08_s1co|pt08_s2nmhc|pt08_s4no2|pt08_s5o3|t   |features                                         |\n",
            "+----+------+------+-----+-----+---------+-----------+----------+---------+----+-------------------------------------------------+\n",
            "|0.3 |9.0   |0.7   |16.0 |25.0 |753.0    |462.0      |955.0     |274.0    |13.9|[0.3,9.0,0.7,16.0,25.0,753.0,462.0,955.0,274.0]  |\n",
            "|0.3 |14.0  |0.5   |16.0 |26.0 |785.0    |448.0      |1003.0    |263.0    |13.5|[0.3,14.0,0.5,16.0,26.0,785.0,448.0,1003.0,263.0]|\n",
            "|0.3 |20.0  |0.7   |14.0 |20.0 |763.0    |471.0      |1098.0    |305.0    |12.5|[0.3,20.0,0.7,14.0,20.0,763.0,471.0,1098.0,305.0]|\n",
            "|0.3 |29.0  |1.2   |18.0 |29.0 |837.0    |518.0      |1182.0    |360.0    |10.5|[0.3,29.0,1.2,18.0,29.0,837.0,518.0,1182.0,360.0]|\n",
            "|0.3 |30.0  |0.7   |12.0 |19.0 |804.0    |468.0      |1166.0    |320.0    |15.7|[0.3,30.0,0.7,12.0,19.0,804.0,468.0,1166.0,320.0]|\n",
            "|0.3 |47.0  |0.9   |21.0 |28.0 |825.0    |489.0      |1171.0    |363.0    |11.1|[0.3,47.0,0.9,21.0,28.0,825.0,489.0,1171.0,363.0]|\n",
            "|0.4 |23.0  |0.7   |33.0 |49.0 |835.0    |472.0      |1117.0    |314.0    |13.9|[0.4,23.0,0.7,33.0,49.0,835.0,472.0,1117.0,314.0]|\n",
            "|0.4 |30.0  |1.4   |21.0 |30.0 |830.0    |538.0      |1214.0    |392.0    |15.6|[0.4,30.0,1.4,21.0,30.0,830.0,538.0,1214.0,392.0]|\n",
            "|0.4 |36.0  |1.3   |17.0 |25.0 |803.0    |527.0      |1152.0    |369.0    |14.1|[0.4,36.0,1.3,17.0,25.0,803.0,527.0,1152.0,369.0]|\n",
            "|0.5 |11.0  |1.6   |28.0 |40.0 |869.0    |554.0      |1268.0    |667.0    |11.8|[0.5,11.0,1.6,28.0,40.0,869.0,554.0,1268.0,667.0]|\n",
            "|0.5 |18.0  |1.9   |46.0 |53.0 |891.0    |576.0      |1289.0    |733.0    |11.9|[0.5,18.0,1.9,46.0,53.0,891.0,576.0,1289.0,733.0]|\n",
            "|0.5 |21.0  |0.6   |12.0 |20.0 |878.0    |457.0      |1158.0    |344.0    |9.9 |[0.5,21.0,0.6,12.0,20.0,878.0,457.0,1158.0,344.0]|\n",
            "|0.5 |23.0  |1.1   |22.0 |38.0 |840.0    |509.0      |1076.0    |352.0    |10.4|[0.5,23.0,1.1,22.0,38.0,840.0,509.0,1076.0,352.0]|\n",
            "|0.5 |26.0  |1.8   |33.0 |47.0 |909.0    |567.0      |1287.0    |418.0    |9.6 |[0.5,26.0,1.8,33.0,47.0,909.0,567.0,1287.0,418.0]|\n",
            "|0.5 |27.0  |1.3   |25.0 |36.0 |844.0    |532.0      |1176.0    |376.0    |10.5|[0.5,27.0,1.3,25.0,36.0,844.0,532.0,1176.0,376.0]|\n",
            "|0.5 |31.0  |1.1   |34.0 |37.0 |804.0    |505.0      |1148.0    |329.0    |12.8|[0.5,31.0,1.1,34.0,37.0,804.0,505.0,1148.0,329.0]|\n",
            "|0.5 |31.0  |1.6   |19.0 |32.0 |846.0    |557.0      |1212.0    |406.0    |15.6|[0.5,31.0,1.6,19.0,32.0,846.0,557.0,1212.0,406.0]|\n",
            "|0.5 |33.0  |2.5   |29.0 |39.0 |856.0    |619.0      |1345.0    |677.0    |16.3|[0.5,33.0,2.5,29.0,39.0,856.0,619.0,1345.0,677.0]|\n",
            "|0.5 |39.0  |1.8   |24.0 |35.0 |908.0    |569.0      |1360.0    |526.0    |14.1|[0.5,39.0,1.8,24.0,35.0,908.0,569.0,1360.0,526.0]|\n",
            "|0.5 |40.0  |1.5   |25.0 |39.0 |933.0    |547.0      |1336.0    |542.0    |15.0|[0.5,40.0,1.5,25.0,39.0,933.0,547.0,1336.0,542.0]|\n",
            "+----+------+------+-----+-----+---------+-----------+----------+---------+----+-------------------------------------------------+\n",
            "only showing top 20 rows\n",
            "\n"
          ]
        }
      ],
      "source": [
        "train_data.show(truncate = False)"
      ]
    },
    {
      "cell_type": "code",
      "execution_count": null,
      "metadata": {
        "id": "-jchqpxzV0N2",
        "colab": {
          "base_uri": "https://localhost:8080/"
        },
        "outputId": "8ceb61a6-872b-431c-ff5f-2b566beabbfe"
      },
      "outputs": [
        {
          "output_type": "stream",
          "name": "stdout",
          "text": [
            "+----+------+------+-----+-----+---------+-----------+----------+---------+----+--------------------------------------------------+\n",
            "|cogt|nmhcgt|c6h6gt|noxgt|no2gt|pt08_s1co|pt08_s2nmhc|pt08_s4no2|pt08_s5o3|t   |features                                          |\n",
            "+----+------+------+-----+-----+---------+-----------+----------+---------+----+--------------------------------------------------+\n",
            "|0.3 |19.0  |0.6   |13.0 |22.0 |834.0    |459.0      |1212.0    |361.0    |8.8 |[0.3,19.0,0.6,13.0,22.0,834.0,459.0,1212.0,361.0] |\n",
            "|0.3 |32.0  |0.8   |22.0 |32.0 |824.0    |478.0      |1200.0    |331.0    |15.3|[0.3,32.0,0.8,22.0,32.0,824.0,478.0,1200.0,331.0] |\n",
            "|0.4 |21.0  |1.2   |35.0 |44.0 |809.0    |521.0      |1158.0    |378.0    |13.9|[0.4,21.0,1.2,35.0,44.0,809.0,521.0,1158.0,378.0] |\n",
            "|0.5 |18.0  |0.8   |15.0 |26.0 |851.0    |477.0      |1064.0    |343.0    |14.5|[0.5,18.0,0.8,15.0,26.0,851.0,477.0,1064.0,343.0] |\n",
            "|0.5 |29.0  |0.9   |18.0 |28.0 |858.0    |490.0      |1212.0    |378.0    |9.3 |[0.5,29.0,0.9,18.0,28.0,858.0,490.0,1212.0,378.0] |\n",
            "|0.5 |36.0  |0.9   |39.0 |53.0 |865.0    |494.0      |1185.0    |367.0    |13.5|[0.5,36.0,0.9,39.0,53.0,865.0,494.0,1185.0,367.0] |\n",
            "|0.6 |20.0  |2.5   |37.0 |57.0 |931.0    |623.0      |1307.0    |828.0    |12.0|[0.6,20.0,2.5,37.0,57.0,931.0,623.0,1307.0,828.0] |\n",
            "|0.6 |39.0  |1.5   |45.0 |57.0 |922.0    |541.0      |1246.0    |432.0    |13.3|[0.6,39.0,1.5,45.0,57.0,922.0,541.0,1246.0,432.0] |\n",
            "|0.7 |26.0  |2.3   |52.0 |71.0 |956.0    |605.0      |1117.0    |691.0    |12.9|[0.7,26.0,2.3,52.0,71.0,956.0,605.0,1117.0,691.0] |\n",
            "|0.7 |26.0  |3.0   |68.0 |71.0 |938.0    |650.0      |1333.0    |893.0    |10.9|[0.7,26.0,3.0,68.0,71.0,938.0,650.0,1333.0,893.0] |\n",
            "|0.7 |31.0  |1.6   |41.0 |58.0 |840.0    |556.0      |1094.0    |366.0    |13.7|[0.7,31.0,1.6,41.0,58.0,840.0,556.0,1094.0,366.0] |\n",
            "|0.7 |33.0  |1.7   |55.0 |70.0 |898.0    |559.0      |1180.0    |648.0    |10.1|[0.7,33.0,1.7,55.0,70.0,898.0,559.0,1180.0,648.0] |\n",
            "|0.7 |34.0  |2.0   |36.0 |54.0 |856.0    |581.0      |1111.0    |346.0    |14.6|[0.7,34.0,2.0,36.0,54.0,856.0,581.0,1111.0,346.0] |\n",
            "|0.7 |40.0  |2.2   |45.0 |59.0 |925.0    |602.0      |1263.0    |562.0    |8.0 |[0.7,40.0,2.2,45.0,59.0,925.0,602.0,1263.0,562.0] |\n",
            "|0.7 |49.0  |2.3   |35.0 |46.0 |889.0    |603.0      |1271.0    |455.0    |15.6|[0.7,49.0,2.3,35.0,46.0,889.0,603.0,1271.0,455.0] |\n",
            "|0.8 |27.0  |1.9   |32.0 |48.0 |915.0    |578.0      |1212.0    |665.0    |8.2 |[0.8,27.0,1.9,32.0,48.0,915.0,578.0,1212.0,665.0] |\n",
            "|0.8 |48.0  |4.5   |68.0 |66.0 |1005.0   |738.0      |1563.0    |917.0    |15.7|[0.8,48.0,4.5,68.0,66.0,1005.0,738.0,1563.0,917.0]|\n",
            "|0.9 |40.0  |2.2   |46.0 |58.0 |888.0    |598.0      |1156.0    |417.0    |10.6|[0.9,40.0,2.2,46.0,58.0,888.0,598.0,1156.0,417.0] |\n",
            "|0.9 |85.0  |3.9   |73.0 |73.0 |936.0    |705.0      |1364.0    |918.0    |10.9|[0.9,85.0,3.9,73.0,73.0,936.0,705.0,1364.0,918.0] |\n",
            "|1.0 |29.0  |2.5   |44.0 |63.0 |1076.0   |618.0      |1333.0    |872.0    |11.6|[1.0,29.0,2.5,44.0,63.0,1076.0,618.0,1333.0,872.0]|\n",
            "+----+------+------+-----+-----+---------+-----------+----------+---------+----+--------------------------------------------------+\n",
            "only showing top 20 rows\n",
            "\n"
          ]
        }
      ],
      "source": [
        "test_data.show(truncate = False)"
      ]
    },
    {
      "cell_type": "code",
      "execution_count": null,
      "metadata": {
        "id": "Zea7AVZHaVGn",
        "colab": {
          "base_uri": "https://localhost:8080/"
        },
        "outputId": "1995a763-d5d3-472d-9edd-dee8a55972a1"
      },
      "outputs": [
        {
          "output_type": "stream",
          "name": "stdout",
          "text": [
            "Train Size: 695\n",
            "Test Size: 132\n"
          ]
        }
      ],
      "source": [
        "print(f\"Train Size: {train_data.count()}\\nTest Size: {test_data.count()}\")"
      ]
    },
    {
      "cell_type": "markdown",
      "metadata": {
        "id": "PGTSM1vmoYiY"
      },
      "source": [
        "Now we have test and train data. We can proceed to predictions of ML model."
      ]
    },
    {
      "cell_type": "markdown",
      "metadata": {
        "id": "nV7baCwkIDc7"
      },
      "source": [
        "# Section 4: Show your analysis of the data\n",
        "\n",
        "10 points\n",
        "\n",
        "This is where the science happens. Use your data to show some kind of insight, and how you got there. Make the reader understand why it's important, and how they can get the same conslusion, and/or what would need to change to reach a different one.\n",
        "\n",
        "### This section should include one or more of the following:\n",
        "- Fit the data to a model\n",
        "- Show the outcome of clustering, regression, and/or classification algorithms.\n",
        " - We used several in class, but you can use whatever fits your needs for this assignment\n",
        "- Reccomend a product/item\n",
        "- Use a SQL query to filter results\n"
      ]
    },
    {
      "cell_type": "markdown",
      "metadata": {
        "id": "rSB_5MQ4jzgv"
      },
      "source": [
        "Now that we have train and test data, I think we can proceed to ML predictions. Based on the hypotheses I made, which is `Temperature may get affected by levels of pollutants`, I am considering the `label` is column `t` which is temperature and all of the other columns which are the levels of pollutants are `features`."
      ]
    },
    {
      "cell_type": "code",
      "execution_count": null,
      "metadata": {
        "id": "MPWkF1xNKVS6",
        "colab": {
          "base_uri": "https://localhost:8080/"
        },
        "outputId": "d4f257ad-18ab-42ca-f510-a7a228e87c9e"
      },
      "outputs": [
        {
          "output_type": "stream",
          "name": "stdout",
          "text": [
            "Time taken for model fitting : 5.837561130523682s\n",
            "Root Mean Squared Error (RMSE) on test data : 3.7927667121017015\n",
            "R2 on test data : 0.39941073822945794\n",
            "Mean Absolute Error (MAE) on test data : 3.093885088818607\n"
          ]
        }
      ],
      "source": [
        "from pyspark.ml.regression import RandomForestRegressor\n",
        "from pyspark.ml.evaluation import RegressionEvaluator\n",
        "import time\n",
        "\n",
        "rf = RandomForestRegressor(featuresCol=\"features\", labelCol=\"t\")\n",
        "\n",
        "start = time.time()\n",
        "model = rf.fit(train_data)\n",
        "end = time.time()\n",
        "\n",
        "predictions_rf = model.transform(test_data)\n",
        "\n",
        "\n",
        "evaluator = RegressionEvaluator(labelCol=\"t\", predictionCol=\"prediction\", metricName=\"rmse\")\n",
        "rmse = evaluator.evaluate(predictions_rf)\n",
        "r2 = evaluator.evaluate(predictions_rf, {evaluator.metricName: \"r2\"})\n",
        "mae = evaluator.evaluate(predictions_rf, {evaluator.metricName: \"mae\"})\n",
        "\n",
        "print(f\"Time taken for model fitting : {end - start}s\")\n",
        "print(f\"Root Mean Squared Error (RMSE) on test data : {rmse}\")\n",
        "print(f\"R2 on test data : {r2}\")\n",
        "print(f\"Mean Absolute Error (MAE) on test data : {mae}\")"
      ]
    },
    {
      "cell_type": "code",
      "execution_count": null,
      "metadata": {
        "id": "oUTKDOadoSwu",
        "colab": {
          "base_uri": "https://localhost:8080/",
          "height": 564
        },
        "outputId": "229f87b5-1851-442a-b2f5-13681bc0e57f"
      },
      "outputs": [
        {
          "output_type": "display_data",
          "data": {
            "text/plain": [
              "<Figure size 800x600 with 1 Axes>"
            ],
            "image/png": "[encoded data removed]"
          },
          "metadata": {}
        }
      ],
      "source": [
        "import numpy as np\n",
        "import matplotlib.pyplot as plt\n",
        "\n",
        "true_labels = predictions_rf.select(\"t\").rdd.map(lambda row: row[0]).collect()\n",
        "predicted_labels = predictions_rf.select(\"prediction\").rdd.map(lambda row: row[0]).collect()\n",
        "\n",
        "ideal_fit_line = np.linspace(min(true_labels), max(true_labels), 100)\n",
        "\n",
        "plt.figure(figsize=(8, 6))\n",
        "plt.scatter(true_labels, predicted_labels, color='blue', label='Predictions')\n",
        "plt.plot(ideal_fit_line, ideal_fit_line, color='red', linestyle='--', label='Ideal Fit')\n",
        "plt.title('Test vs Predictions Random forest without GridSearch')\n",
        "plt.xlabel('True Values')\n",
        "plt.ylabel('Predicted Values')\n",
        "plt.legend()\n",
        "plt.grid(True)\n",
        "plt.show()"
      ]
    },
    {
      "cell_type": "markdown",
      "metadata": {
        "id": "vHiZRoT5jnJS"
      },
      "source": [
        "The results are moderate. Lets try random forest regressor with hyper-parameter tuning"
      ]
    },
    {
      "cell_type": "code",
      "execution_count": null,
      "metadata": {
        "id": "Un0MXSizg9Ek",
        "colab": {
          "base_uri": "https://localhost:8080/"
        },
        "outputId": "70222823-48cd-471c-e611-ad0f6cf48435"
      },
      "outputs": [
        {
          "output_type": "stream",
          "name": "stdout",
          "text": [
            "Total time taken for the grid search and model to fit : 382.04315161705017s\n",
            "Best hyperparameters : \n",
            "# of Trees 100\n",
            "Max Depth : 15\n",
            "Root Mean Squared Error (RMSE) on test data : 3.2885601712118926\n",
            "R2 on test data : 0.5484801093859637\n",
            "Mean Absolute Error (MAE) on test data : 2.5996878797889913 \n"
          ]
        }
      ],
      "source": [
        "from pyspark.ml.regression import RandomForestRegressor\n",
        "from pyspark.ml.tuning import ParamGridBuilder, CrossValidator\n",
        "from pyspark.ml.evaluation import RegressionEvaluator\n",
        "\n",
        "rf2 = RandomForestRegressor(featuresCol=\"features\", labelCol=\"t\")\n",
        "\n",
        "param_grid = ParamGridBuilder() \\\n",
        "    .addGrid(rf2.numTrees, [50, 100, 150]) \\\n",
        "    .addGrid(rf2.maxDepth, [5, 10, 15]) \\\n",
        "    .build()\n",
        "\n",
        "evaluator = RegressionEvaluator(labelCol=\"t\", predictionCol=\"prediction\", metricName=\"rmse\")\n",
        "\n",
        "crossval = CrossValidator(estimator=rf2,\n",
        "                          estimatorParamMaps=param_grid,\n",
        "                          evaluator=evaluator,\n",
        "                          numFolds=5)\n",
        "\n",
        "start = time.time()\n",
        "cv_model = crossval.fit(train_data)\n",
        "\n",
        "best_model = cv_model.bestModel\n",
        "best_num_trees = best_model.getNumTrees\n",
        "best_max_depth = best_model.getOrDefault(\"maxDepth\")\n",
        "\n",
        "predictions = best_model.transform(test_data)\n",
        "end = time.time()\n",
        "\n",
        "rmse = evaluator.evaluate(predictions)\n",
        "r2 = evaluator.evaluate(predictions, {evaluator.metricName: \"r2\"})\n",
        "mae = evaluator.evaluate(predictions, {evaluator.metricName: \"mae\"})\n",
        "\n",
        "print(f\"Total time taken for the grid search and model to fit : {end - start}s\")\n",
        "print(f\"Best hyperparameters : \\n# of Trees {best_num_trees}\\nMax Depth : {best_max_depth}\")\n",
        "print(f\"Root Mean Squared Error (RMSE) on test data : {rmse}\")\n",
        "print(f\"R2 on test data : {r2}\")\n",
        "print(f\"Mean Absolute Error (MAE) on test data : {mae} \")\n"
      ]
    },
    {
      "cell_type": "code",
      "execution_count": null,
      "metadata": {
        "id": "c5gXb6Hyo44N",
        "colab": {
          "base_uri": "https://localhost:8080/",
          "height": 564
        },
        "outputId": "029aa3f7-d71c-46b5-c08a-b7aeaf78816c"
      },
      "outputs": [
        {
          "output_type": "display_data",
          "data": {
            "text/plain": [
              "<Figure size 800x600 with 1 Axes>"
            ],
            "image/png": "[encoded data removed]"
          },
          "metadata": {}
        }
      ],
      "source": [
        "import numpy as np\n",
        "import matplotlib.pyplot as plt\n",
        "\n",
        "true_labels = predictions.select(\"t\").rdd.map(lambda row: row[0]).collect()\n",
        "predicted_labels = predictions.select(\"prediction\").rdd.map(lambda row: row[0]).collect()\n",
        "\n",
        "ideal_fit_line = np.linspace(min(true_labels), max(true_labels), 100)\n",
        "\n",
        "plt.figure(figsize=(8, 6))\n",
        "plt.scatter(true_labels, predicted_labels, color='green', label='Predictions')\n",
        "plt.plot(ideal_fit_line, ideal_fit_line, color='red', linestyle='--', label='Ideal Fit')\n",
        "plt.title('Test vs Predictions Random forest with GridSearch')\n",
        "plt.xlabel('True Values')\n",
        "plt.ylabel('Predicted Values')\n",
        "plt.legend()\n",
        "plt.grid(True)\n",
        "plt.show()"
      ]
    },
    {
      "cell_type": "markdown",
      "metadata": {
        "id": "I7-MvaPuklkt"
      },
      "source": [
        "There is a betterment in performance of the model.\n",
        "\n",
        "Model 1: RFR without hyperparameter tuning\n",
        "\n",
        "Model 2: RFR with hyperparameter tuning\n",
        "\n",
        "\n",
        "Model 2 outperforms Model 1 in terms of all evaluation metrics:\n",
        "\n",
        "It has a lower Root Mean Squared Error (RMSE), indicating better accuracy.\n",
        "It has a higher R-squared (R2) value, indicating a better fit to the data.\n",
        "It has a lower Mean Absolute Error (MAE), indicating better precision.\n",
        "\n",
        "Although the graphs look similar, the difference is evident on the metrics"
      ]
    }
  ],
  "metadata": {
    "colab": {
      "provenance": []
    },
    "kernelspec": {
      "display_name": "Python 3",
      "name": "python3"
    },
    "language_info": {
      "name": "python"
    }
  },
  "nbformat": 4,
  "nbformat_minor": 0
}